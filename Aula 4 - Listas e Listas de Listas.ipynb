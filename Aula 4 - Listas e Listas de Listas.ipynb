{
 "cells": [
  {
   "cell_type": "markdown",
   "metadata": {
    "id": "6v9WTQXjJ5kH"
   },
   "source": [
    "# Aula 3 - Listas e Listas de Listas\n",
    "\n",
    "Na aula de hoje, vamos explorar os seguintes tópicos em Python:\n",
    "\n",
    "- 1) Listas\n",
    "- 2) Funções de listas\n",
    "\n",
    "_________________\n",
    "\n",
    "### Objetivos\n",
    "\n",
    "Apresentar o conceito de lista, e as principais propriedades desta estrutura de dados; Depois, introduzir as principais funções aplicadas a listas."
   ]
  },
  {
   "cell_type": "markdown",
   "metadata": {
    "id": "CNLplHXeJ5kL"
   },
   "source": [
    "____\n",
    "____\n",
    "____"
   ]
  },
  {
   "cell_type": "markdown",
   "metadata": {
    "id": "yppF6s-DJ5kM"
   },
   "source": [
    "## 1) Listas\n",
    "\n",
    "Imagine que você quer armazenar várias variáveis relacionadas, como, por exemplo, todas suas notas em provas.\n",
    "\n",
    "Se houver muitas notas, não é muito prático criar uma variável para cada uma. Seria muito mais conveniente armazenar todas as notas em uma **lista**, não é mesmo? \n",
    "\n",
    "Em python, temos uma estrutura de dados que é exatamente isso: uma lista! Listas são indicadas por colchete []\n",
    "\n",
    "Uma lista nada mais é que um **conjunto de objetos**, que podem ser de diversos tipos:"
   ]
  },
  {
   "cell_type": "markdown",
   "metadata": {
    "id": "G6YCNpAlJ5kN"
   },
   "source": [
    "Lista de números (int e float)"
   ]
  },
  {
   "cell_type": "code",
   "execution_count": null,
   "metadata": {
    "id": "22NP-BgIJ5kN"
   },
   "outputs": [],
   "source": [
    "lista = [1, 2, 45, 44, 3.14, 42, 65.45567, -346346]"
   ]
  },
  {
   "cell_type": "code",
   "execution_count": null,
   "metadata": {
    "colab": {
     "base_uri": "https://localhost:8080/"
    },
    "executionInfo": {
     "elapsed": 6,
     "status": "ok",
     "timestamp": 1661381797289,
     "user": {
      "displayName": "Brian Nunes",
      "userId": "16110357363391175077"
     },
     "user_tz": 180
    },
    "id": "7MX6MYdRJ5kO",
    "outputId": "44ea49e5-12b6-45d5-82a7-951c4d2761dd"
   },
   "outputs": [
    {
     "data": {
      "text/plain": [
       "[1, 2, 45, 44, 3.14, 42, 65.45567, -346346]"
      ]
     },
     "execution_count": 2,
     "metadata": {},
     "output_type": "execute_result"
    }
   ],
   "source": [
    "lista"
   ]
  },
  {
   "cell_type": "markdown",
   "metadata": {
    "id": "WvTG7chvJ5kP"
   },
   "source": [
    "Lista de strings"
   ]
  },
  {
   "cell_type": "code",
   "execution_count": null,
   "metadata": {
    "id": "WDcfqxTcJ5kP"
   },
   "outputs": [],
   "source": [
    "lista_de_strings = [\"a\", \"olá, mundo\", \"andré\"]"
   ]
  },
  {
   "cell_type": "code",
   "execution_count": null,
   "metadata": {
    "colab": {
     "base_uri": "https://localhost:8080/"
    },
    "executionInfo": {
     "elapsed": 4,
     "status": "ok",
     "timestamp": 1661381815577,
     "user": {
      "displayName": "Brian Nunes",
      "userId": "16110357363391175077"
     },
     "user_tz": 180
    },
    "id": "uanu08BqJ5kQ",
    "outputId": "3a72dd7e-ac2c-4c23-d9c3-2ada936b290a"
   },
   "outputs": [
    {
     "data": {
      "text/plain": [
       "['a', 'olá, mundo', 'andré']"
      ]
     },
     "execution_count": 4,
     "metadata": {},
     "output_type": "execute_result"
    }
   ],
   "source": [
    "lista_de_strings"
   ]
  },
  {
   "cell_type": "markdown",
   "metadata": {
    "id": "qYabFN_vJ5kR"
   },
   "source": [
    "Lista de números e strings"
   ]
  },
  {
   "cell_type": "code",
   "execution_count": null,
   "metadata": {
    "colab": {
     "base_uri": "https://localhost:8080/"
    },
    "executionInfo": {
     "elapsed": 267,
     "status": "ok",
     "timestamp": 1661381822751,
     "user": {
      "displayName": "Brian Nunes",
      "userId": "16110357363391175077"
     },
     "user_tz": 180
    },
    "id": "D454yrtUJ5kR",
    "outputId": "f17a2f28-4e8a-46bb-e7f8-269e17bdf2da"
   },
   "outputs": [
    {
     "data": {
      "text/plain": [
       "['andré', 343, -34.545]"
      ]
     },
     "execution_count": 5,
     "metadata": {},
     "output_type": "execute_result"
    }
   ],
   "source": [
    "listas_num_strings = [\"andré\", 343, -34.545]\n",
    "\n",
    "listas_num_strings"
   ]
  },
  {
   "cell_type": "markdown",
   "metadata": {
    "id": "X9pRCaHUJ5kS"
   },
   "source": [
    "Lista de listas"
   ]
  },
  {
   "cell_type": "code",
   "execution_count": null,
   "metadata": {
    "colab": {
     "base_uri": "https://localhost:8080/"
    },
    "executionInfo": {
     "elapsed": 259,
     "status": "ok",
     "timestamp": 1661381838543,
     "user": {
      "displayName": "Brian Nunes",
      "userId": "16110357363391175077"
     },
     "user_tz": 180
    },
    "id": "9mgk3YmnJ5kS",
    "outputId": "176cfe32-27cc-4d7b-938e-942f7593b614"
   },
   "outputs": [
    {
     "data": {
      "text/plain": [
       "[[1, 2, 3], ['oi', 'python']]"
      ]
     },
     "execution_count": 6,
     "metadata": {},
     "output_type": "execute_result"
    }
   ],
   "source": [
    "lista_de_listas = [[1, 2, 3], [\"oi\", \"python\"]]\n",
    "\n",
    "lista_de_listas"
   ]
  },
  {
   "cell_type": "markdown",
   "metadata": {
    "id": "vKcWzBi8J5kS"
   },
   "source": [
    "Tudo junto"
   ]
  },
  {
   "cell_type": "code",
   "execution_count": null,
   "metadata": {
    "colab": {
     "base_uri": "https://localhost:8080/"
    },
    "executionInfo": {
     "elapsed": 4226,
     "status": "ok",
     "timestamp": 1661382073958,
     "user": {
      "displayName": "Brian Nunes",
      "userId": "16110357363391175077"
     },
     "user_tz": 180
    },
    "id": "U1Roh6-vJ5kT",
    "outputId": "64447abe-0ee8-4eb3-a674-438100e7854e"
   },
   "outputs": [
    {
     "name": "stdout",
     "output_type": "stream",
     "text": [
      "Digite algo:p\n"
     ]
    },
    {
     "data": {
      "text/plain": [
       "['ar', 3, 2, True, 'andre', 'p']"
      ]
     },
     "execution_count": 14,
     "metadata": {},
     "output_type": "execute_result"
    }
   ],
   "source": [
    "numero = 2\n",
    "nome = \"andre\"\n",
    "\n",
    "lista = [\"ar\", 3, numero, True, nome, input(\"Digite algo: \")]\n",
    "\n",
    "lista"
   ]
  },
  {
   "cell_type": "code",
   "execution_count": null,
   "metadata": {
    "colab": {
     "base_uri": "https://localhost:8080/"
    },
    "executionInfo": {
     "elapsed": 252,
     "status": "ok",
     "timestamp": 1661382286352,
     "user": {
      "displayName": "Brian Nunes",
      "userId": "16110357363391175077"
     },
     "user_tz": 180
    },
    "id": "FE_qLnksGHuU",
    "outputId": "865edad3-ea57-4a6e-cd8d-c655520d1522"
   },
   "outputs": [
    {
     "name": "stdout",
     "output_type": "stream",
     "text": [
      "3 itens do tipo: leite\n",
      "2 itens do tipo: arroz\n",
      "1 itens do tipo: queijo\n"
     ]
    }
   ],
   "source": [
    "lista_compras = [[3, \"leite\"], [2, \"arroz\"], [1, \"queijo\"]]\n",
    "\n",
    "for item in lista_compras:\n",
    "    print(f\"{item[0]} itens do tipo: {item[1]}\")"
   ]
  },
  {
   "cell_type": "markdown",
   "metadata": {
    "id": "fjEZqZDZJ5kT"
   },
   "source": [
    "Muitas vezes, queremos **acessar elementos individuais** da lista. \n",
    "\n",
    "Para fazer isso, devemos indicar qual é o **índice** respectivo ao elemento, isto é, qual é a **posição** do elemento dentro da lista\n",
    "\n",
    "Para acessar o elemento na **posição i** da lista \"minha_lista\", fazemos:\n",
    "\n",
    "```python\n",
    "minha_lista[i]\n",
    "```\n",
    "\n",
    "__MUITO IMPORTANTE: a numeração de índice começa em zero!__\n",
    "\n",
    "Ou seja:\n",
    "\n",
    "- O primeiro elemento tem índice 0: ```minha_lista[0]``` ,\n",
    "- O segundo tem índice 1: ```minha_lista[1]```,\n",
    "\n",
    "E assim por diante!\n",
    "\n",
    "Também podemos acessar os últimos elementos, usando índices negativos:\n",
    "\n",
    "- O último elemento tem índice -1: ```minha_lista[-1]```,\n",
    "- O penúltimo tem índice -2: ```minha_lista[-2]```,\n",
    "\n",
    "E assim por diante!"
   ]
  },
  {
   "cell_type": "code",
   "execution_count": null,
   "metadata": {
    "id": "b-nsw-JVJ5kU"
   },
   "outputs": [],
   "source": [
    "minha_lista = [\"a\", \"b\", \"c\"]"
   ]
  },
  {
   "cell_type": "code",
   "execution_count": null,
   "metadata": {
    "colab": {
     "base_uri": "https://localhost:8080/",
     "height": 35
    },
    "executionInfo": {
     "elapsed": 251,
     "status": "ok",
     "timestamp": 1661382334253,
     "user": {
      "displayName": "Brian Nunes",
      "userId": "16110357363391175077"
     },
     "user_tz": 180
    },
    "id": "dW6gNKL5J5kU",
    "outputId": "53dc7f20-7120-4877-b420-ec3edbfd6738"
   },
   "outputs": [
    {
     "data": {
      "application/vnd.google.colaboratory.intrinsic+json": {
       "type": "string"
      },
      "text/plain": [
       "'b'"
      ]
     },
     "execution_count": 16,
     "metadata": {},
     "output_type": "execute_result"
    }
   ],
   "source": [
    "minha_lista[1]"
   ]
  },
  {
   "cell_type": "code",
   "execution_count": null,
   "metadata": {
    "colab": {
     "base_uri": "https://localhost:8080/",
     "height": 166
    },
    "executionInfo": {
     "elapsed": 244,
     "status": "error",
     "timestamp": 1661382365242,
     "user": {
      "displayName": "Brian Nunes",
      "userId": "16110357363391175077"
     },
     "user_tz": 180
    },
    "id": "1I7LnitTJ5kU",
    "outputId": "d0fc0e63-c1a0-4980-82e2-87b818a10433"
   },
   "outputs": [
    {
     "ename": "IndexError",
     "evalue": "ignored",
     "output_type": "error",
     "traceback": [
      "\u001b[0;31m---------------------------------------------------------------------------\u001b[0m",
      "\u001b[0;31mIndexError\u001b[0m                                Traceback (most recent call last)",
      "\u001b[0;32m<ipython-input-20-53d927545489>\u001b[0m in \u001b[0;36m<module>\u001b[0;34m\u001b[0m\n\u001b[0;32m----> 1\u001b[0;31m \u001b[0mminha_lista\u001b[0m\u001b[0;34m[\u001b[0m\u001b[0;34m-\u001b[0m\u001b[0;36m4\u001b[0m\u001b[0;34m]\u001b[0m\u001b[0;34m\u001b[0m\u001b[0;34m\u001b[0m\u001b[0m\n\u001b[0m",
      "\u001b[0;31mIndexError\u001b[0m: list index out of range"
     ]
    }
   ],
   "source": [
    "minha_lista[-4]"
   ]
  },
  {
   "cell_type": "code",
   "execution_count": null,
   "metadata": {
    "id": "2EW-aksLJ5kU"
   },
   "outputs": [],
   "source": [
    "minha_lista = [42, 73, 435]"
   ]
  },
  {
   "cell_type": "code",
   "execution_count": null,
   "metadata": {
    "colab": {
     "base_uri": "https://localhost:8080/"
    },
    "executionInfo": {
     "elapsed": 252,
     "status": "ok",
     "timestamp": 1661382397752,
     "user": {
      "displayName": "Brian Nunes",
      "userId": "16110357363391175077"
     },
     "user_tz": 180
    },
    "id": "3gPp4UqHJ5kV",
    "outputId": "e6e4f568-86b4-447d-bdfc-685596d9d323"
   },
   "outputs": [
    {
     "data": {
      "text/plain": [
       "73"
      ]
     },
     "execution_count": 22,
     "metadata": {},
     "output_type": "execute_result"
    }
   ],
   "source": [
    "minha_lista[-2]"
   ]
  },
  {
   "cell_type": "markdown",
   "metadata": {
    "id": "lKBQqspxJ5kV"
   },
   "source": [
    "Também podemos **acessar pedaços da lista**, indicando o intervalo de índices que queremos, separados por \":\",  **com intervalo superior aberto**:\n",
    "\n",
    "- ```minha_lista[1:3]```: seleciona os elementos de indice 1 até indice 2\n",
    "- ```minha_lista[:4]```: seleciona do primeiro elemento até o de índice 3\n",
    "- ```minha_lista[3:]```: seleciona do elemento de índice 3 até o final\n",
    "- ```minha_lista[:]```: seleciona a lista inteira\n",
    "- ```minha_lista[a:b:p]```: seleciona os elementos de índice a até (b-1) pulando de p em p elementos\n",
    "\n",
    "Este conceito é chamado de \"slicing\" em Python, pois você está pegando \"fatias\" da lista!"
   ]
  },
  {
   "cell_type": "code",
   "execution_count": null,
   "metadata": {
    "id": "uU0U3tBzJ5kV"
   },
   "outputs": [],
   "source": [
    "minha_lista = [\"a\", \"b\", \"c\", 42, 73, 435, [1, 3, 4, [3, \"oi\", True]]]"
   ]
  },
  {
   "cell_type": "code",
   "execution_count": null,
   "metadata": {
    "colab": {
     "base_uri": "https://localhost:8080/"
    },
    "executionInfo": {
     "elapsed": 5,
     "status": "ok",
     "timestamp": 1661382702922,
     "user": {
      "displayName": "Brian Nunes",
      "userId": "16110357363391175077"
     },
     "user_tz": 180
    },
    "id": "vx0wifN5J5kV",
    "outputId": "b4e3064a-821f-4a62-8d8e-e2b53efe1b03"
   },
   "outputs": [
    {
     "data": {
      "text/plain": [
       "['b', 'c', 42]"
      ]
     },
     "execution_count": 24,
     "metadata": {},
     "output_type": "execute_result"
    }
   ],
   "source": [
    "minha_lista[1:4]"
   ]
  },
  {
   "cell_type": "code",
   "execution_count": null,
   "metadata": {
    "colab": {
     "base_uri": "https://localhost:8080/"
    },
    "executionInfo": {
     "elapsed": 278,
     "status": "ok",
     "timestamp": 1661382713560,
     "user": {
      "displayName": "Brian Nunes",
      "userId": "16110357363391175077"
     },
     "user_tz": 180
    },
    "id": "y7DKMvD4J5kW",
    "outputId": "083b84fd-3a8e-499c-c2ad-c7e7e32104fe"
   },
   "outputs": [
    {
     "data": {
      "text/plain": [
       "['a', 'b', 'c', 42]"
      ]
     },
     "execution_count": 25,
     "metadata": {},
     "output_type": "execute_result"
    }
   ],
   "source": [
    "minha_lista[:4]"
   ]
  },
  {
   "cell_type": "code",
   "execution_count": null,
   "metadata": {
    "colab": {
     "base_uri": "https://localhost:8080/"
    },
    "executionInfo": {
     "elapsed": 267,
     "status": "ok",
     "timestamp": 1661382730363,
     "user": {
      "displayName": "Brian Nunes",
      "userId": "16110357363391175077"
     },
     "user_tz": 180
    },
    "id": "oiyOOZGIJ5kW",
    "outputId": "4aa70afd-eb0c-4f80-9e1c-058af9c3052e"
   },
   "outputs": [
    {
     "data": {
      "text/plain": [
       "[42, 73, 435, [1, 3, 4, [3, 'oi', True]]]"
      ]
     },
     "execution_count": 26,
     "metadata": {},
     "output_type": "execute_result"
    }
   ],
   "source": [
    "minha_lista[-4:]"
   ]
  },
  {
   "cell_type": "code",
   "execution_count": null,
   "metadata": {
    "colab": {
     "base_uri": "https://localhost:8080/"
    },
    "executionInfo": {
     "elapsed": 385,
     "status": "ok",
     "timestamp": 1661446412699,
     "user": {
      "displayName": "Bruno Silva",
      "userId": "01771094133195996972"
     },
     "user_tz": 180
    },
    "id": "OU7GEPf06x2b",
    "outputId": "26e19f5f-f97a-422f-ed45-9f80ebc13513"
   },
   "outputs": [
    {
     "data": {
      "text/plain": [
       "['a', 'c', 73]"
      ]
     },
     "execution_count": 4,
     "metadata": {},
     "output_type": "execute_result"
    }
   ],
   "source": [
    "minha_lista[0:5:2]"
   ]
  },
  {
   "cell_type": "code",
   "execution_count": null,
   "metadata": {
    "colab": {
     "base_uri": "https://localhost:8080/"
    },
    "executionInfo": {
     "elapsed": 290,
     "status": "ok",
     "timestamp": 1661382824908,
     "user": {
      "displayName": "Brian Nunes",
      "userId": "16110357363391175077"
     },
     "user_tz": 180
    },
    "id": "pBfRDroEJ5kW",
    "outputId": "c2fad5a8-21a6-447f-b9c2-b0cef87c2ecf"
   },
   "outputs": [
    {
     "data": {
      "text/plain": [
       "3"
      ]
     },
     "execution_count": 31,
     "metadata": {},
     "output_type": "execute_result"
    }
   ],
   "source": [
    "minha_lista[-1][-1][0]"
   ]
  },
  {
   "cell_type": "markdown",
   "metadata": {
    "id": "YnWeY0hlJ5kW"
   },
   "source": [
    "Podemos também fazer algumas **operações com listas**"
   ]
  },
  {
   "cell_type": "markdown",
   "metadata": {
    "id": "KoSY6nxUJ5kW"
   },
   "source": [
    "Soma de listas: ao **somar listas**, os elementos são **concatenados**, na ordem dada, para formar uma lista maior:"
   ]
  },
  {
   "cell_type": "code",
   "execution_count": null,
   "metadata": {
    "colab": {
     "base_uri": "https://localhost:8080/"
    },
    "executionInfo": {
     "elapsed": 284,
     "status": "ok",
     "timestamp": 1661383085877,
     "user": {
      "displayName": "Brian Nunes",
      "userId": "16110357363391175077"
     },
     "user_tz": 180
    },
    "id": "0FYRN6byJ5kW",
    "outputId": "46dd621c-8069-4851-ba03-7ad9aea2005e"
   },
   "outputs": [
    {
     "data": {
      "text/plain": [
       "[1, 2, 3, 'a', 'b', 'c', 434]"
      ]
     },
     "execution_count": 32,
     "metadata": {},
     "output_type": "execute_result"
    }
   ],
   "source": [
    "lista1 = [1, 2, 3]\n",
    "lista2 = [\"a\", \"b\", \"c\", 434]\n",
    "\n",
    "lista1 + lista2"
   ]
  },
  {
   "cell_type": "markdown",
   "metadata": {
    "id": "TKfq0hQsJ5kX"
   },
   "source": [
    "Ao **multiplicar listas por um inteiro**, os elementos são repetidos, na ordem que aparecem:"
   ]
  },
  {
   "cell_type": "code",
   "execution_count": null,
   "metadata": {
    "colab": {
     "base_uri": "https://localhost:8080/"
    },
    "executionInfo": {
     "elapsed": 257,
     "status": "ok",
     "timestamp": 1661383132751,
     "user": {
      "displayName": "Brian Nunes",
      "userId": "16110357363391175077"
     },
     "user_tz": 180
    },
    "id": "Slg1sgnRJ5kX",
    "outputId": "c87a554c-3c02-43d3-e057-dafbd427c33a"
   },
   "outputs": [
    {
     "data": {
      "text/plain": [
       "[1, 2, 3, 1, 2, 3, 1, 2, 3]"
      ]
     },
     "execution_count": 35,
     "metadata": {},
     "output_type": "execute_result"
    }
   ],
   "source": [
    "lista1 * 3 # lista1 + lista1 + lista1"
   ]
  },
  {
   "cell_type": "markdown",
   "metadata": {
    "id": "hpwW3qFsJ5kX"
   },
   "source": [
    "Se quisermos somar os elementos de duas listas, ou multiplicá-los por algum número, temos que usar um **laço**, como veremos logo mais!"
   ]
  },
  {
   "cell_type": "markdown",
   "metadata": {
    "id": "3dEEJaKsJ5kX"
   },
   "source": [
    "É possível transformar strings em uma **lista de caracteres**:"
   ]
  },
  {
   "cell_type": "code",
   "execution_count": null,
   "metadata": {
    "colab": {
     "base_uri": "https://localhost:8080/"
    },
    "executionInfo": {
     "elapsed": 261,
     "status": "ok",
     "timestamp": 1661383247170,
     "user": {
      "displayName": "Brian Nunes",
      "userId": "16110357363391175077"
     },
     "user_tz": 180
    },
    "id": "AP1tQhEoJ5kX",
    "outputId": "557ac7d1-c5a4-47fd-b58a-529fc63ffcc8"
   },
   "outputs": [
    {
     "data": {
      "text/plain": [
       "['p', 'y', 't', 'h', 'o', 'n']"
      ]
     },
     "execution_count": 36,
     "metadata": {},
     "output_type": "execute_result"
    }
   ],
   "source": [
    "list(\"python\")"
   ]
  },
  {
   "cell_type": "markdown",
   "metadata": {
    "id": "7ctt0WRhJ5kX"
   },
   "source": [
    "__________\n",
    "__________\n",
    "__________"
   ]
  },
  {
   "cell_type": "markdown",
   "metadata": {
    "id": "XnN6tHCQJ5kY"
   },
   "source": [
    "## 2) Funções de listas"
   ]
  },
  {
   "cell_type": "markdown",
   "metadata": {
    "id": "s5DMypwNJ5kY"
   },
   "source": [
    "Podemos começar com uma lista vazia, e preenchê-la aos poucos.\n",
    "\n",
    "Para **criar uma lista vazia**, fazemos:"
   ]
  },
  {
   "cell_type": "code",
   "execution_count": null,
   "metadata": {
    "id": "jjGexliUJ5kY"
   },
   "outputs": [],
   "source": [
    "# tanto faz o list() ou o []\n",
    "lista_vazia = list()\n",
    "\n",
    "lista_vazia = []\n",
    "\n",
    "lista_vazia"
   ]
  },
  {
   "cell_type": "markdown",
   "metadata": {
    "id": "HFOgSKK1J5kY"
   },
   "source": [
    "Para adicionar um elemento **ao fim da lista**, usamos a função \"append()\".\n",
    "\n",
    "**OBS.: só podemos apendar um único elemento por vez!**"
   ]
  },
  {
   "cell_type": "code",
   "execution_count": null,
   "metadata": {
    "colab": {
     "base_uri": "https://localhost:8080/"
    },
    "executionInfo": {
     "elapsed": 236,
     "status": "ok",
     "timestamp": 1661383451420,
     "user": {
      "displayName": "Brian Nunes",
      "userId": "16110357363391175077"
     },
     "user_tz": 180
    },
    "id": "0-u7de8sJ5kY",
    "outputId": "11ec7380-3c50-452d-9d42-4886a7d3154c"
   },
   "outputs": [
    {
     "name": "stdout",
     "output_type": "stream",
     "text": [
      "[1, 2, 3]\n",
      "[1, 2, 3, 4, '232', True]\n"
     ]
    }
   ],
   "source": [
    "# lista inicial\n",
    "lista = [1, 2, 3]\n",
    "\n",
    "# print da lista antes do append\n",
    "print(lista)\n",
    "\n",
    "# append\n",
    "lista.append(4)\n",
    "lista.append(\"232\")\n",
    "lista.append(True)\n",
    "\n",
    "# print da lista após o append\n",
    "print(lista)"
   ]
  },
  {
   "cell_type": "markdown",
   "metadata": {
    "id": "7fLOTqQgJ5kY"
   },
   "source": [
    "Se você quiser adicionar um elemento numa **posição específica**, use a função \"insert()\", onde o primeiro argumento é a posição, e o segundo é o elemento:\n",
    "\n",
    "**OBS.: só podemos inserir um único elemento por vez!**"
   ]
  },
  {
   "cell_type": "code",
   "execution_count": null,
   "metadata": {
    "colab": {
     "base_uri": "https://localhost:8080/"
    },
    "executionInfo": {
     "elapsed": 278,
     "status": "ok",
     "timestamp": 1661383553835,
     "user": {
      "displayName": "Brian Nunes",
      "userId": "16110357363391175077"
     },
     "user_tz": 180
    },
    "id": "LjmX0Vg8J5kZ",
    "outputId": "931ec988-9efd-4d29-f3f3-823cc5429ab8"
   },
   "outputs": [
    {
     "data": {
      "text/plain": [
       "[1, True, 2, 3]"
      ]
     },
     "execution_count": 39,
     "metadata": {},
     "output_type": "execute_result"
    }
   ],
   "source": [
    "# inserindo um elemento na posição inicial\n",
    "\n",
    "lista = [1, 2, 3]\n",
    "\n",
    "lista.insert(1, True)\n",
    "\n",
    "lista"
   ]
  },
  {
   "cell_type": "markdown",
   "metadata": {
    "id": "D2jw7I5KJ5kZ"
   },
   "source": [
    "Podemos, também, **redefinir um elemento da lista individualmente**. Para isso, basta selecionarmos este elemento, e redefiní-lo:"
   ]
  },
  {
   "cell_type": "code",
   "execution_count": null,
   "metadata": {
    "id": "MxzMmEj-J5kZ"
   },
   "outputs": [],
   "source": [
    "# redefinindo um elemento pela posicao\n",
    "lista = [1, 2, 3]\n",
    "\n",
    "lista[1] = \"b\""
   ]
  },
  {
   "cell_type": "code",
   "execution_count": null,
   "metadata": {
    "colab": {
     "base_uri": "https://localhost:8080/"
    },
    "executionInfo": {
     "elapsed": 287,
     "status": "ok",
     "timestamp": 1661383815076,
     "user": {
      "displayName": "Brian Nunes",
      "userId": "16110357363391175077"
     },
     "user_tz": 180
    },
    "id": "SYws6UinJ5kZ",
    "outputId": "294d9532-3da5-4e9b-8fc2-35d48f3da1a4"
   },
   "outputs": [
    {
     "data": {
      "text/plain": [
       "[1, 'b', 3]"
      ]
     },
     "execution_count": 41,
     "metadata": {},
     "output_type": "execute_result"
    }
   ],
   "source": [
    "lista"
   ]
  },
  {
   "cell_type": "code",
   "execution_count": null,
   "metadata": {
    "id": "8MFKj5ogJ5kZ"
   },
   "outputs": [],
   "source": [
    "lista[-1] = \"qualquer coisa\""
   ]
  },
  {
   "cell_type": "code",
   "execution_count": null,
   "metadata": {
    "colab": {
     "base_uri": "https://localhost:8080/"
    },
    "executionInfo": {
     "elapsed": 267,
     "status": "ok",
     "timestamp": 1661383826238,
     "user": {
      "displayName": "Brian Nunes",
      "userId": "16110357363391175077"
     },
     "user_tz": 180
    },
    "id": "Kmntt4W_J5ka",
    "outputId": "63c18879-539a-45ee-9d00-927fc9153744"
   },
   "outputs": [
    {
     "data": {
      "text/plain": [
       "[1, 'b', 'qualquer coisa']"
      ]
     },
     "execution_count": 43,
     "metadata": {},
     "output_type": "execute_result"
    }
   ],
   "source": [
    "lista"
   ]
  },
  {
   "cell_type": "code",
   "execution_count": null,
   "metadata": {
    "colab": {
     "base_uri": "https://localhost:8080/"
    },
    "executionInfo": {
     "elapsed": 269,
     "status": "ok",
     "timestamp": 1661383866778,
     "user": {
      "displayName": "Brian Nunes",
      "userId": "16110357363391175077"
     },
     "user_tz": 180
    },
    "id": "7o2j3gEgJ5ka",
    "outputId": "85e4e5a1-8ffa-4d43-e157-61e4eaf1f60b"
   },
   "outputs": [
    {
     "data": {
      "text/plain": [
       "['oi', False, 3, 2, 3.14]"
      ]
     },
     "execution_count": 44,
     "metadata": {},
     "output_type": "execute_result"
    }
   ],
   "source": [
    "lista1 = ['oi', False, 3]\n",
    "lista2 = [2, 3.14]\n",
    "\n",
    "lista1.extend(lista2)\n",
    "lista1"
   ]
  },
  {
   "cell_type": "code",
   "execution_count": null,
   "metadata": {
    "colab": {
     "base_uri": "https://localhost:8080/"
    },
    "executionInfo": {
     "elapsed": 14929,
     "status": "ok",
     "timestamp": 1661383962635,
     "user": {
      "displayName": "Brian Nunes",
      "userId": "16110357363391175077"
     },
     "user_tz": 180
    },
    "id": "gR8behcwJ5ka",
    "outputId": "b05b2dda-39b4-4169-a85e-4aae42655073"
   },
   "outputs": [
    {
     "name": "stdout",
     "output_type": "stream",
     "text": [
      "183 ns ± 1.63 ns per loop (mean ± std. dev. of 7 runs, 10000000 loops each)\n"
     ]
    }
   ],
   "source": [
    "%%timeit\n",
    "lista1 = ['oi', False, 3]\n",
    "lista2 = [2, 3.14]\n",
    "lista1.extend(lista2)"
   ]
  },
  {
   "cell_type": "code",
   "execution_count": null,
   "metadata": {
    "colab": {
     "base_uri": "https://localhost:8080/"
    },
    "executionInfo": {
     "elapsed": 3,
     "status": "ok",
     "timestamp": 1661384029249,
     "user": {
      "displayName": "Brian Nunes",
      "userId": "16110357363391175077"
     },
     "user_tz": 180
    },
    "id": "077zKn_CM6Kg",
    "outputId": "8e051460-c7d3-4899-9ebc-09908543dbc4"
   },
   "outputs": [
    {
     "name": "stdout",
     "output_type": "stream",
     "text": [
      "[None]\n",
      "['oi', False, 3, 2, 3.14]\n"
     ]
    }
   ],
   "source": [
    "lista1 = ['oi', False, 3]\n",
    "lista2 = [2, 3.14]\n",
    "lista3 = [lista1.extend(lista2)]\n",
    "print(lista3)\n",
    "print(lista1)"
   ]
  },
  {
   "cell_type": "code",
   "execution_count": null,
   "metadata": {
    "colab": {
     "base_uri": "https://localhost:8080/"
    },
    "executionInfo": {
     "elapsed": 14400,
     "status": "ok",
     "timestamp": 1661383947718,
     "user": {
      "displayName": "Brian Nunes",
      "userId": "16110357363391175077"
     },
     "user_tz": 180
    },
    "id": "buGx8tm8J5ka",
    "outputId": "9bfed4f9-fe6a-40fe-cceb-5b2d0edd3f3e"
   },
   "outputs": [
    {
     "name": "stdout",
     "output_type": "stream",
     "text": [
      "176 ns ± 35.8 ns per loop (mean ± std. dev. of 7 runs, 10000000 loops each)\n"
     ]
    }
   ],
   "source": [
    "%%timeit\n",
    "lista1 = ['oi', False, 3]\n",
    "lista2 = [2, 3.14]\n",
    "lista1 += lista2"
   ]
  },
  {
   "cell_type": "markdown",
   "metadata": {
    "id": "XU3sJmtCJ5ka"
   },
   "source": [
    "Para passar uma lista inteira para outra, não podemos apenas atribuir com o =, pois assim a nova lista fará uma referencia a lista antiga, e, portanto, as mudaças feitas em uma afetarão a outra. Então devemos a usar a função **copy()**"
   ]
  },
  {
   "cell_type": "code",
   "execution_count": null,
   "metadata": {
    "colab": {
     "base_uri": "https://localhost:8080/"
    },
    "executionInfo": {
     "elapsed": 242,
     "status": "ok",
     "timestamp": 1661384241266,
     "user": {
      "displayName": "Brian Nunes",
      "userId": "16110357363391175077"
     },
     "user_tz": 180
    },
    "id": "MzLEJlR_J5ka",
    "outputId": "3510559d-2307-4c62-e7df-e0abb0126ccf"
   },
   "outputs": [
    {
     "name": "stdout",
     "output_type": "stream",
     "text": [
      "Lista 1: ['oi', False, 3]\n",
      "Lista 2: ['oi', False, 3] \n",
      "\n",
      "Lista 1: ['tchau', False, 3]\n",
      "Lista 2: ['tchau', False, 3]\n"
     ]
    }
   ],
   "source": [
    "lista1 = ['oi', False, 3]\n",
    "lista2 = lista1\n",
    "print('Lista 1:', lista1)\n",
    "print('Lista 2:', lista2, '\\n')\n",
    "lista1[0] = 'tchau'\n",
    "print('Lista 1:', lista1)\n",
    "print('Lista 2:', lista2)"
   ]
  },
  {
   "cell_type": "code",
   "execution_count": null,
   "metadata": {
    "colab": {
     "base_uri": "https://localhost:8080/"
    },
    "executionInfo": {
     "elapsed": 269,
     "status": "ok",
     "timestamp": 1661384379749,
     "user": {
      "displayName": "Brian Nunes",
      "userId": "16110357363391175077"
     },
     "user_tz": 180
    },
    "id": "MmLCDq-uJ5ka",
    "outputId": "a9f56e94-70a7-4345-a8d8-cd1bf41f4407"
   },
   "outputs": [
    {
     "name": "stdout",
     "output_type": "stream",
     "text": [
      "Lista 1: ['oi', False, 3]\n",
      "Lista 2: ['oi', False, 3] \n",
      "\n",
      "Lista 1: ['oi', False, 3]\n",
      "Lista 2: ['tchau', False, 3]\n"
     ]
    }
   ],
   "source": [
    "lista1 = ['oi', False, 3]\n",
    "lista2 = lista1.copy()\n",
    "print('Lista 1:', lista1)\n",
    "print('Lista 2:', lista2, '\\n')\n",
    "lista2[0] = 'tchau'\n",
    "print('Lista 1:', lista1)\n",
    "print('Lista 2:', lista2)"
   ]
  },
  {
   "cell_type": "code",
   "execution_count": null,
   "metadata": {
    "colab": {
     "base_uri": "https://localhost:8080/"
    },
    "executionInfo": {
     "elapsed": 3,
     "status": "ok",
     "timestamp": 1661384482852,
     "user": {
      "displayName": "Brian Nunes",
      "userId": "16110357363391175077"
     },
     "user_tz": 180
    },
    "id": "IC6699ktOvjk",
    "outputId": "ffa470df-0148-4438-ab4a-d12ed6b156cb"
   },
   "outputs": [
    {
     "name": "stdout",
     "output_type": "stream",
     "text": [
      "['oi', False, 3]\n"
     ]
    }
   ],
   "source": [
    "lista1 = ['oi', False, 3]\n",
    "elementoX = lista1[1]\n",
    "elementoX = 5\n",
    "print(lista1)"
   ]
  },
  {
   "cell_type": "markdown",
   "metadata": {
    "id": "w-7CnkHUJ5kb"
   },
   "source": [
    "Para **remover um elemento da lista**, use a função \"remove()\". \n",
    "\n",
    "**OBS.: Essa função remove apenas a primeira aparição do elemento**"
   ]
  },
  {
   "cell_type": "code",
   "execution_count": null,
   "metadata": {
    "colab": {
     "base_uri": "https://localhost:8080/"
    },
    "executionInfo": {
     "elapsed": 251,
     "status": "ok",
     "timestamp": 1661384714638,
     "user": {
      "displayName": "Brian Nunes",
      "userId": "16110357363391175077"
     },
     "user_tz": 180
    },
    "id": "27rXO-A6J5kb",
    "outputId": "e33d9a3b-c953-4a87-ccf5-d65bdf8af0a6"
   },
   "outputs": [
    {
     "data": {
      "text/plain": [
       "['a', 'c', 'b', 42, 73, 435, [1, 3, 4, [3, 'oi', True]]]"
      ]
     },
     "execution_count": 59,
     "metadata": {},
     "output_type": "execute_result"
    }
   ],
   "source": [
    "# removendo um elemento\n",
    "lista = [\"a\", \"b\", \"c\", \"b\", \"b\", \"b\", \"b\", \"b\", \"b\", \"b\", 42, 73, 435, [1, 3, 4, [3, \"oi\", True]]]\n",
    "\n",
    "while lista.count(\"b\") > 1:\n",
    "    lista.remove(\"b\")\n",
    "\n",
    "lista"
   ]
  },
  {
   "cell_type": "markdown",
   "metadata": {
    "id": "uFBfK9PTJ5kb"
   },
   "source": [
    "Se você quiser remover um elemento de determinado índice, use a função \"pop()\":"
   ]
  },
  {
   "cell_type": "code",
   "execution_count": null,
   "metadata": {
    "colab": {
     "base_uri": "https://localhost:8080/"
    },
    "executionInfo": {
     "elapsed": 263,
     "status": "ok",
     "timestamp": 1661384977883,
     "user": {
      "displayName": "Brian Nunes",
      "userId": "16110357363391175077"
     },
     "user_tz": 180
    },
    "id": "QYGtl9o5J5kb",
    "outputId": "ef2c2d9b-b5f3-48ba-9f95-25dbc92b5758"
   },
   "outputs": [
    {
     "name": "stdout",
     "output_type": "stream",
     "text": [
      "ultimo\n",
      "['a', 'c', 42, 73, 435, [1, 3, 4, [3, 'oi', True]]]\n"
     ]
    }
   ],
   "source": [
    "# removendo elemento pelo indice\n",
    "lista = [\"a\", \"c\", 42, 73, 435, [1, 3, 4, [3, \"oi\", True]], \"ultimo\"]\n",
    "valorRetirado = lista.pop()\n",
    "print(valorRetirado)\n",
    "print(lista)"
   ]
  },
  {
   "cell_type": "code",
   "execution_count": null,
   "metadata": {
    "colab": {
     "base_uri": "https://localhost:8080/"
    },
    "executionInfo": {
     "elapsed": 265,
     "status": "ok",
     "timestamp": 1661385010936,
     "user": {
      "displayName": "Brian Nunes",
      "userId": "16110357363391175077"
     },
     "user_tz": 180
    },
    "id": "NXdqmaHBJ5kb",
    "outputId": "e8de38d1-429e-4d39-ff10-d0210e6b7f9a"
   },
   "outputs": [
    {
     "name": "stdout",
     "output_type": "stream",
     "text": [
      "['abacate', 'a', 'b', 42, True]\n",
      "['abacate', 'a', 'b', True]\n",
      "['a', 'b', True]\n",
      "['a', 'b']\n",
      "True\n",
      "['a']\n"
     ]
    }
   ],
   "source": [
    "lista = [\"abacate\", \"a\", \"b\", 42, True]\n",
    "\n",
    "print(lista)\n",
    "\n",
    "lista.remove(42)\n",
    "\n",
    "print(lista)\n",
    "\n",
    "lista.pop(0)\n",
    "\n",
    "print(lista)\n",
    "\n",
    "valorRetirado = lista.pop()\n",
    "\n",
    "print(lista)\n",
    "print(valorRetirado)\n",
    "\n",
    "lista.pop()\n",
    "\n",
    "print(lista)"
   ]
  },
  {
   "cell_type": "markdown",
   "metadata": {
    "id": "mvU2FRK9J5kc"
   },
   "source": [
    "Muitas vezes é interessante **ordenar a lista**. Pra fazer isso, usamos a função \"sorted\".\n",
    "\n",
    "**OBS: essa função só funciona para listas com o mesmo tipo de dado!**"
   ]
  },
  {
   "cell_type": "code",
   "execution_count": null,
   "metadata": {
    "id": "bIIy0VxQJ5kc"
   },
   "outputs": [],
   "source": [
    "lista = [34, 2, 5, 8, -34]"
   ]
  },
  {
   "cell_type": "code",
   "execution_count": null,
   "metadata": {
    "colab": {
     "base_uri": "https://localhost:8080/"
    },
    "executionInfo": {
     "elapsed": 285,
     "status": "ok",
     "timestamp": 1661385110104,
     "user": {
      "displayName": "Brian Nunes",
      "userId": "16110357363391175077"
     },
     "user_tz": 180
    },
    "id": "QkMw9MlfJ5kc",
    "outputId": "baa11418-b25b-4f3f-9807-77720430073e"
   },
   "outputs": [
    {
     "data": {
      "text/plain": [
       "[-34, 2, 5, 8, 34]"
      ]
     },
     "execution_count": 65,
     "metadata": {},
     "output_type": "execute_result"
    }
   ],
   "source": [
    "sorted(lista)"
   ]
  },
  {
   "cell_type": "code",
   "execution_count": null,
   "metadata": {
    "colab": {
     "base_uri": "https://localhost:8080/"
    },
    "executionInfo": {
     "elapsed": 50,
     "status": "ok",
     "timestamp": 1661446907696,
     "user": {
      "displayName": "Bruno Silva",
      "userId": "01771094133195996972"
     },
     "user_tz": 180
    },
    "id": "nd7OzsPfJ5kc",
    "outputId": "89f166a3-0f3a-4861-bbb5-9a939f244304"
   },
   "outputs": [
    {
     "name": "stdout",
     "output_type": "stream",
     "text": [
      "['998', 'Pera', 'abacate', 'laranja', 'pera']\n",
      "['abacate', 'Pera', 'pera', 'laranja', '998']\n"
     ]
    }
   ],
   "source": [
    "# ordenando lista de strings: por ordem alfabética, segundo a tabela ascii\n",
    "lista_strings = [\"abacate\", \"Pera\",\"pera\", \"laranja\", \"998\"]\n",
    "\n",
    "print(sorted(lista_strings))\n",
    "print(lista_strings)"
   ]
  },
  {
   "cell_type": "code",
   "execution_count": null,
   "metadata": {
    "colab": {
     "base_uri": "https://localhost:8080/"
    },
    "executionInfo": {
     "elapsed": 324,
     "status": "ok",
     "timestamp": 1661446920547,
     "user": {
      "displayName": "Bruno Silva",
      "userId": "01771094133195996972"
     },
     "user_tz": 180
    },
    "id": "Q2WljBz9J5kc",
    "outputId": "f9ff6a06-148c-4f2d-cbbd-a4c8825a65c8"
   },
   "outputs": [
    {
     "data": {
      "text/plain": [
       "['998', 'Pera', 'abacate', 'laranja', 'pera']"
      ]
     },
     "execution_count": 6,
     "metadata": {},
     "output_type": "execute_result"
    }
   ],
   "source": [
    "lista_strings.sort()\n",
    "lista_strings"
   ]
  },
  {
   "cell_type": "code",
   "execution_count": null,
   "metadata": {
    "colab": {
     "base_uri": "https://localhost:8080/"
    },
    "executionInfo": {
     "elapsed": 292,
     "status": "ok",
     "timestamp": 1661385546424,
     "user": {
      "displayName": "Brian Nunes",
      "userId": "16110357363391175077"
     },
     "user_tz": 180
    },
    "id": "YTHtD9h4Sjl0",
    "outputId": "c8c05f1c-c959-478a-ae1d-da2b0816dbaa"
   },
   "outputs": [
    {
     "data": {
      "text/plain": [
       "[['casa2', 50], ['casa4', 87], ['casa1', 137], ['casa3', 1000]]"
      ]
     },
     "execution_count": 68,
     "metadata": {},
     "output_type": "execute_result"
    }
   ],
   "source": [
    "lista = [[\"casa1\", 137], [\"casa2\", 50], [\"casa3\", 1000], [\"casa4\", 87]]\n",
    "sorted(lista, key = lambda x: x[1])"
   ]
  },
  {
   "cell_type": "code",
   "execution_count": null,
   "metadata": {
    "colab": {
     "base_uri": "https://localhost:8080/"
    },
    "executionInfo": {
     "elapsed": 228,
     "status": "ok",
     "timestamp": 1661385684792,
     "user": {
      "displayName": "Brian Nunes",
      "userId": "16110357363391175077"
     },
     "user_tz": 180
    },
    "id": "7zlqLlu_J5kc",
    "outputId": "7e579294-10c0-42ff-fbec-0bbbcbd11d5d"
   },
   "outputs": [
    {
     "data": {
      "text/plain": [
       "[-34, 2, 5, 8, 34]"
      ]
     },
     "execution_count": 69,
     "metadata": {},
     "output_type": "execute_result"
    }
   ],
   "source": [
    "lista = [34, 2, 5, 8, -34]\n",
    "\n",
    "lista_ordenada = sorted(lista)\n",
    "\n",
    "lista_ordenada"
   ]
  },
  {
   "cell_type": "markdown",
   "metadata": {
    "id": "TRcmUdyCJ5kc"
   },
   "source": [
    "Para **inverter a ordem dos elementos**, use a função **reverse()**"
   ]
  },
  {
   "cell_type": "code",
   "execution_count": null,
   "metadata": {
    "colab": {
     "base_uri": "https://localhost:8080/"
    },
    "executionInfo": {
     "elapsed": 251,
     "status": "ok",
     "timestamp": 1661385694232,
     "user": {
      "displayName": "Brian Nunes",
      "userId": "16110357363391175077"
     },
     "user_tz": 180
    },
    "id": "TBxJ__xZJ5kc",
    "outputId": "863bc513-1c87-405f-8080-f0986e33e3c6"
   },
   "outputs": [
    {
     "data": {
      "text/plain": [
       "[-34, 8, 5, 2, 34]"
      ]
     },
     "execution_count": 70,
     "metadata": {},
     "output_type": "execute_result"
    }
   ],
   "source": [
    "lista = [34, 2, 5, 8, -34]\n",
    "\n",
    "# essa é a forma de inverter a lista\n",
    "lista.reverse()\n",
    "\n",
    "lista"
   ]
  },
  {
   "cell_type": "markdown",
   "metadata": {
    "id": "onurc8kFJ5kd"
   },
   "source": [
    "Para ordenar uma lista na ordem inversa (maior pro menor), podemos adicionar o parâmetro a seguir:"
   ]
  },
  {
   "cell_type": "code",
   "execution_count": null,
   "metadata": {
    "colab": {
     "base_uri": "https://localhost:8080/"
    },
    "executionInfo": {
     "elapsed": 287,
     "status": "ok",
     "timestamp": 1661385721722,
     "user": {
      "displayName": "Brian Nunes",
      "userId": "16110357363391175077"
     },
     "user_tz": 180
    },
    "id": "FkofeDjiJ5kd",
    "outputId": "23dd1cb0-ba43-4874-8d05-eb399505ad81"
   },
   "outputs": [
    {
     "data": {
      "text/plain": [
       "[34, 8, 5, 2, -34]"
      ]
     },
     "execution_count": 71,
     "metadata": {},
     "output_type": "execute_result"
    }
   ],
   "source": [
    "# inverte a ordem\n",
    "\n",
    "sorted(lista, reverse=True)"
   ]
  },
  {
   "cell_type": "code",
   "execution_count": null,
   "metadata": {
    "colab": {
     "base_uri": "https://localhost:8080/"
    },
    "executionInfo": {
     "elapsed": 263,
     "status": "ok",
     "timestamp": 1661385729743,
     "user": {
      "displayName": "Brian Nunes",
      "userId": "16110357363391175077"
     },
     "user_tz": 180
    },
    "id": "_98kSZQBJ5kd",
    "outputId": "486476e0-f8fe-4521-8612-85562f31bf5d"
   },
   "outputs": [
    {
     "data": {
      "text/plain": [
       "[34, 8, 5, 2, -34]"
      ]
     },
     "execution_count": 72,
     "metadata": {},
     "output_type": "execute_result"
    }
   ],
   "source": [
    "lista.sort(reverse=True)\n",
    "lista"
   ]
  },
  {
   "cell_type": "markdown",
   "metadata": {
    "id": "feoHXbooJ5kd"
   },
   "source": [
    "Se quisermos saber **qual é a posição (índice) de determinado elemento**, usamos o método \".index()\".\n",
    "\n",
    "Este método retorna apenas a **primeira aparição** do elemento:"
   ]
  },
  {
   "cell_type": "code",
   "execution_count": null,
   "metadata": {
    "colab": {
     "base_uri": "https://localhost:8080/"
    },
    "executionInfo": {
     "elapsed": 251,
     "status": "ok",
     "timestamp": 1661385911010,
     "user": {
      "displayName": "Brian Nunes",
      "userId": "16110357363391175077"
     },
     "user_tz": 180
    },
    "id": "vkpHszorTzxR",
    "outputId": "edbade27-8254-465c-ede5-16bbe5e17322"
   },
   "outputs": [
    {
     "name": "stdout",
     "output_type": "stream",
     "text": [
      "3\n"
     ]
    }
   ],
   "source": [
    "lista = [34, 2, 5, 8, 8, 8, -34]\n",
    "\n",
    "print(lista.index(8))"
   ]
  },
  {
   "cell_type": "code",
   "execution_count": null,
   "metadata": {
    "colab": {
     "base_uri": "https://localhost:8080/"
    },
    "executionInfo": {
     "elapsed": 4,
     "status": "ok",
     "timestamp": 1661385873188,
     "user": {
      "displayName": "Brian Nunes",
      "userId": "16110357363391175077"
     },
     "user_tz": 180
    },
    "id": "CKdl_z2vJ5kd",
    "outputId": "b4dc029e-c50e-465c-bf95-89bb1165b46e"
   },
   "outputs": [
    {
     "name": "stdout",
     "output_type": "stream",
     "text": [
      "Valor não existe na lista\n"
     ]
    }
   ],
   "source": [
    "lista = [34, 2, 5, 8, 8, 8, -34]\n",
    "\n",
    "valor = 10\n",
    "if valor in lista:\n",
    "    print(lista.index(valor))\n",
    "else:\n",
    "    print(\"Valor não existe na lista\")"
   ]
  },
  {
   "cell_type": "markdown",
   "metadata": {
    "id": "SophztrfJ5kd"
   },
   "source": [
    "Por fim, podemos encontrar algumas **propriedades dos elementos da lista:**"
   ]
  },
  {
   "cell_type": "code",
   "execution_count": null,
   "metadata": {
    "id": "lqVe0rRbJ5kd"
   },
   "outputs": [],
   "source": [
    "lista = [34, 2, 5, 8, 8, 8, -37]"
   ]
  },
  {
   "cell_type": "markdown",
   "metadata": {
    "id": "gd_AzJMWJ5ke"
   },
   "source": [
    "Para encontrar o maior elemento, use \"max()\":"
   ]
  },
  {
   "cell_type": "code",
   "execution_count": null,
   "metadata": {
    "colab": {
     "base_uri": "https://localhost:8080/"
    },
    "executionInfo": {
     "elapsed": 252,
     "status": "ok",
     "timestamp": 1661386088865,
     "user": {
      "displayName": "Brian Nunes",
      "userId": "16110357363391175077"
     },
     "user_tz": 180
    },
    "id": "l12ubmvnJ5ke",
    "outputId": "b555e4d4-ae51-426e-efa4-374b7e140c82"
   },
   "outputs": [
    {
     "data": {
      "text/plain": [
       "34"
      ]
     },
     "execution_count": 81,
     "metadata": {},
     "output_type": "execute_result"
    }
   ],
   "source": [
    "max(lista)"
   ]
  },
  {
   "cell_type": "markdown",
   "metadata": {
    "id": "RQD-8QuKJ5ke"
   },
   "source": [
    "Para encontrar o menor elemento, use \"min()\":"
   ]
  },
  {
   "cell_type": "code",
   "execution_count": null,
   "metadata": {
    "colab": {
     "base_uri": "https://localhost:8080/"
    },
    "executionInfo": {
     "elapsed": 247,
     "status": "ok",
     "timestamp": 1661386093238,
     "user": {
      "displayName": "Brian Nunes",
      "userId": "16110357363391175077"
     },
     "user_tz": 180
    },
    "id": "l4MnfosRJ5ke",
    "outputId": "23c537bb-6883-426e-e374-830177e8740a"
   },
   "outputs": [
    {
     "data": {
      "text/plain": [
       "-37"
      ]
     },
     "execution_count": 82,
     "metadata": {},
     "output_type": "execute_result"
    }
   ],
   "source": [
    "min(lista)"
   ]
  },
  {
   "cell_type": "markdown",
   "metadata": {
    "id": "ta_t0EvRJ5ke"
   },
   "source": [
    "Para encontrar o número de elementos (ou seja, qual é o \"tamanho\" da lista), use \"len()\":"
   ]
  },
  {
   "cell_type": "code",
   "execution_count": null,
   "metadata": {
    "colab": {
     "base_uri": "https://localhost:8080/"
    },
    "executionInfo": {
     "elapsed": 261,
     "status": "ok",
     "timestamp": 1661386102183,
     "user": {
      "displayName": "Brian Nunes",
      "userId": "16110357363391175077"
     },
     "user_tz": 180
    },
    "id": "RBpLjJlBJ5ke",
    "outputId": "b112e95f-90d4-4c64-e95f-f8a14fb2e157"
   },
   "outputs": [
    {
     "data": {
      "text/plain": [
       "7"
      ]
     },
     "execution_count": 83,
     "metadata": {},
     "output_type": "execute_result"
    }
   ],
   "source": [
    "len(lista)"
   ]
  },
  {
   "cell_type": "code",
   "execution_count": null,
   "metadata": {
    "colab": {
     "base_uri": "https://localhost:8080/"
    },
    "executionInfo": {
     "elapsed": 258,
     "status": "ok",
     "timestamp": 1661386112980,
     "user": {
      "displayName": "Brian Nunes",
      "userId": "16110357363391175077"
     },
     "user_tz": 180
    },
    "id": "wQBcF7TMJ5ke",
    "outputId": "1d4fd14c-9e07-41d3-8642-07801918e2f0"
   },
   "outputs": [
    {
     "data": {
      "text/plain": [
       "7"
      ]
     },
     "execution_count": 84,
     "metadata": {},
     "output_type": "execute_result"
    }
   ],
   "source": [
    "len(\"abacaxi\")"
   ]
  },
  {
   "cell_type": "markdown",
   "metadata": {
    "id": "cjaTHAooJ5ki"
   },
   "source": [
    "Para somar os elementos da lista, use \"sum()\":"
   ]
  },
  {
   "cell_type": "code",
   "execution_count": null,
   "metadata": {
    "colab": {
     "base_uri": "https://localhost:8080/"
    },
    "executionInfo": {
     "elapsed": 234,
     "status": "ok",
     "timestamp": 1661386138387,
     "user": {
      "displayName": "Brian Nunes",
      "userId": "16110357363391175077"
     },
     "user_tz": 180
    },
    "id": "LgVHCFLWJ5ki",
    "outputId": "da5b9d62-ec9f-41bf-ebd8-25fd34047db3"
   },
   "outputs": [
    {
     "data": {
      "text/plain": [
       "28"
      ]
     },
     "execution_count": 85,
     "metadata": {},
     "output_type": "execute_result"
    }
   ],
   "source": [
    "sum(lista)"
   ]
  },
  {
   "cell_type": "markdown",
   "metadata": {
    "id": "-2Wh0PJBJ5kj"
   },
   "source": [
    "Agora fica bem fácil encontrar a média dos números em uma lista:"
   ]
  },
  {
   "cell_type": "code",
   "execution_count": null,
   "metadata": {
    "colab": {
     "base_uri": "https://localhost:8080/"
    },
    "executionInfo": {
     "elapsed": 260,
     "status": "ok",
     "timestamp": 1661386360072,
     "user": {
      "displayName": "Brian Nunes",
      "userId": "16110357363391175077"
     },
     "user_tz": 180
    },
    "id": "VHdm_OyhJ5kj",
    "outputId": "57ba9ca5-cc1d-412e-f19b-c660847eaf17"
   },
   "outputs": [
    {
     "name": "stdout",
     "output_type": "stream",
     "text": [
      "8.0\n"
     ]
    }
   ],
   "source": [
    "notas = [9, 8, 7, 7, 10]\n",
    "\n",
    "notas.remove(min(notas))\n",
    "notas.remove(max(notas))\n",
    "\n",
    "media = sum(notas)/len(notas)\n",
    "\n",
    "print(media)"
   ]
  },
  {
   "cell_type": "markdown",
   "metadata": {
    "id": "vHH8EDsNJ5kj"
   },
   "source": [
    "__Um exemplo para o cálculo de média dos valores em uma lista...__\n",
    "\n",
    "Mas fazemos o usuário digitar os elementos da lista, um a um!"
   ]
  },
  {
   "cell_type": "code",
   "execution_count": null,
   "metadata": {
    "colab": {
     "base_uri": "https://localhost:8080/"
    },
    "executionInfo": {
     "elapsed": 8233,
     "status": "ok",
     "timestamp": 1661386438685,
     "user": {
      "displayName": "Brian Nunes",
      "userId": "16110357363391175077"
     },
     "user_tz": 180
    },
    "id": "H0AIa33JJ5kj",
    "outputId": "91371b3f-34cb-47e1-c4eb-e40b718ceb39"
   },
   "outputs": [
    {
     "name": "stdout",
     "output_type": "stream",
     "text": [
      "Quantas notas você deseja calcular a média? 3\n",
      "Qual a nota? 7\n",
      "Qual a nota? 8\n",
      "Qual a nota? 9\n",
      "Media: 8.0\n"
     ]
    }
   ],
   "source": [
    "qntdNotas = int(input(\"Quantas notas você deseja calcular a média? \"))\n",
    "\n",
    "while qntdNotas <= 0:\n",
    "    print(\"Quantidade de notas inválida!\")\n",
    "    qntdNotas = int(input(\"Quantas notas você deseja calcular a média? \"))\n",
    "\n",
    "notas = []\n",
    "\n",
    "cont = 0\n",
    "while cont < qntdNotas:\n",
    "    nota = float(input(\"Qual a nota? \"))\n",
    "    notas.append(nota)\n",
    "    cont += 1\n",
    "\n",
    "media = sum(notas)/len(notas)\n",
    "    \n",
    "print(\"Media:\", media)"
   ]
  },
  {
   "cell_type": "code",
   "execution_count": null,
   "metadata": {
    "colab": {
     "base_uri": "https://localhost:8080/"
    },
    "executionInfo": {
     "elapsed": 266,
     "status": "ok",
     "timestamp": 1661386614233,
     "user": {
      "displayName": "Brian Nunes",
      "userId": "16110357363391175077"
     },
     "user_tz": 180
    },
    "id": "JpsWbFDOWoHS",
    "outputId": "536d046c-d4d3-4083-a407-dd0c55144b2f"
   },
   "outputs": [
    {
     "name": "stdout",
     "output_type": "stream",
     "text": [
      "A média do aluno 1 foi: 8.0\n",
      "A média do aluno 2 foi: 5.0\n",
      "A média do aluno 3 foi: 7.333333333333333\n"
     ]
    }
   ],
   "source": [
    "notas_gerais = [[7, 8, 9], [5, 7, 3], [9, 5, 8]]\n",
    "\n",
    "index = 0\n",
    "while index < len(notas_gerais):\n",
    "    media = sum(notas_gerais[index])/len(notas_gerais[index])\n",
    "    print(f\"A média do aluno {index+1} foi: {media}\")\n",
    "    index += 1"
   ]
  },
  {
   "cell_type": "markdown",
   "metadata": {
    "id": "794ZS51WJ5kk"
   },
   "source": [
    "## Exercícios\n",
    "\n",
    "Dada uma lista encadeada de caracteres formada por uma seqüência alternada de\n",
    "letras e dígitos, construa um método que retorne uma lista na qual as letras são mantidas\n",
    "na seqüência original e os dígitos são colocados na ordem inversa. Exemplos:\n",
    "\n",
    "\n",
    "A1E5T7W8G<br>\n",
    "®: A E T W G 8 7 5 1\n",
    "\n",
    "3C9H4Q6<br>\n",
    "®: C H Q 6 4 9 3\n",
    "\n",
    "\n",
    "Como mostram os exemplos, as letras devem ser mostradas primeiro, seguidas dos\n",
    "dígitos. Sugestões:\n",
    "- usar método isdigit() que retorna booleano que retorna verdadeiro caso um\n",
    "caractere seja um dígito. https://www.w3schools.com/python/ref_string_isdigit.asp\n"
   ]
  },
  {
   "cell_type": "code",
   "execution_count": null,
   "metadata": {
    "colab": {
     "base_uri": "https://localhost:8080/"
    },
    "executionInfo": {
     "elapsed": 4,
     "status": "ok",
     "timestamp": 1661388435187,
     "user": {
      "displayName": "Brian Nunes",
      "userId": "16110357363391175077"
     },
     "user_tz": 180
    },
    "id": "N9KU-8APJ5kk",
    "outputId": "24667d91-199c-4e0d-d8f6-5dbe2f7db29f"
   },
   "outputs": [
    {
     "data": {
      "text/plain": [
       "False"
      ]
     },
     "execution_count": 100,
     "metadata": {},
     "output_type": "execute_result"
    }
   ],
   "source": [
    "\"@\".isdigit()"
   ]
  },
  {
   "cell_type": "code",
   "execution_count": null,
   "metadata": {
    "colab": {
     "base_uri": "https://localhost:8080/"
    },
    "executionInfo": {
     "elapsed": 18,
     "status": "ok",
     "timestamp": 1661436999617,
     "user": {
      "displayName": "Bruno Silva",
      "userId": "01771094133195996972"
     },
     "user_tz": 180
    },
    "id": "lPnR0P2-J5kk",
    "outputId": "6a715973-6302-4ae2-f133-dce91cf08180"
   },
   "outputs": [
    {
     "name": "stdout",
     "output_type": "stream",
     "text": [
      "CHQ6493\n"
     ]
    }
   ],
   "source": [
    "codigo = input('Digite o código: ')\n",
    "\n",
    "lista_letras = []\n",
    "lista_numeros = []\n",
    "lista = []\n",
    "for caracter in codigo:\n",
    "    if caracter.isdigit():\n",
    "        lista_numeros.insert(0,caracter)\n",
    "    else:\n",
    "        lista_letras.append(caracter)\n",
    "\n",
    "lista_concatenada = lista_letras + lista_numeros\n",
    "codigo_final = \"\".join(lista_concatenada)\n",
    "print(f'O código processado será {codigo_final}.')"
   ]
  },
  {
   "cell_type": "code",
   "execution_count": null,
   "metadata": {
    "colab": {
     "base_uri": "https://localhost:8080/"
    },
    "executionInfo": {
     "elapsed": 6918,
     "status": "ok",
     "timestamp": 1661447966541,
     "user": {
      "displayName": "Bruno Silva",
      "userId": "01771094133195996972"
     },
     "user_tz": 180
    },
    "id": "PYuYFUtf_VrM",
    "outputId": "66835956-d6c3-4b75-89dd-3f9ca39117bd"
   },
   "outputs": [
    {
     "name": "stdout",
     "output_type": "stream",
     "text": [
      "Digite o código: A1E5T7W8G\n",
      "O código processado será AETWG8751.\n"
     ]
    }
   ],
   "source": [
    "code = input('Digite o código: ')\n",
    "\n",
    "list_characters = [character for character in code if not(character.isdigit())] + [character for character in code[::-1] if character.isdigit() ]\n",
    "\n",
    "final_code = \"\".join(list_characters)\n",
    "print(f'O código processado será {final_code}.')"
   ]
  },
  {
   "cell_type": "markdown",
   "metadata": {
    "id": "TDzxzfPxJ5kk"
   },
   "source": [
    "Faça um algoritmo que recebe uma lista encadeada de números inteiros e retorna uma lista sem repetições, ou seja, uma lista onde cada número apareça apenas uma\n",
    "vez. Exemplo:\n",
    "\n",
    "12, 5, -7, 8, 5, 9, 12, 1, 8 <br>\n",
    "®: 12, 5, -7, 8, 9, 1\n"
   ]
  },
  {
   "cell_type": "code",
   "execution_count": null,
   "metadata": {
    "colab": {
     "base_uri": "https://localhost:8080/"
    },
    "executionInfo": {
     "elapsed": 7437,
     "status": "ok",
     "timestamp": 1661437657532,
     "user": {
      "displayName": "Bruno Silva",
      "userId": "01771094133195996972"
     },
     "user_tz": 180
    },
    "id": "bmhrgLxSJ5kk",
    "outputId": "e06d320b-3f29-42e5-ac26-85383311adc4"
   },
   "outputs": [
    {
     "name": "stdout",
     "output_type": "stream",
     "text": [
      "Digite uma sequência de números separados por vígula: 12, 5, -7, 8, 5, 9, 12, 1, 8 \n",
      "A lista final será [12, 5, -7, 8, 9, 1]\n"
     ]
    }
   ],
   "source": [
    "list_entry = input('Digite uma sequência de números separados por vígula: ').split(',')\n",
    "list_int = []\n",
    "for elem in list_entry:\n",
    "    list_int.append(int(elem))\n",
    "\n",
    "final_list = []\n",
    "for num in list_int:\n",
    "    if num not in final_list:\n",
    "        final_list.append(num)\n",
    "print(f'A lista final será {final_list}')"
   ]
  },
  {
   "cell_type": "code",
   "execution_count": null,
   "metadata": {
    "colab": {
     "base_uri": "https://localhost:8080/"
    },
    "executionInfo": {
     "elapsed": 7420,
     "status": "ok",
     "timestamp": 1661438362963,
     "user": {
      "displayName": "Bruno Silva",
      "userId": "01771094133195996972"
     },
     "user_tz": 180
    },
    "id": "q8JB9PkcbzdL",
    "outputId": "fcf59daa-be63-4282-ac8e-731908dd6ba5"
   },
   "outputs": [
    {
     "name": "stdout",
     "output_type": "stream",
     "text": [
      "Digite uma sequência de números separados por vígula: 12, 5, -7, 8, 5, 9, 12, 1, 8\n",
      "A lista final será [12, 5, -7, 8, 9, 1]\n"
     ]
    }
   ],
   "source": [
    "list_entry = input('Digite uma sequência de números separados por vígula: ').split(',')\n",
    "list_int = []\n",
    "for elem in list_entry:\n",
    "    list_int.append(int(elem))\n",
    "\n",
    "list_int.reverse()\n",
    "for num in list_int:\n",
    "    while list_int.count(num) > 1:\n",
    "        list_int.remove(num)\n",
    "list_int.reverse()\n",
    "print(f'A lista final será {list_int}')"
   ]
  },
  {
   "cell_type": "code",
   "execution_count": null,
   "metadata": {
    "colab": {
     "base_uri": "https://localhost:8080/"
    },
    "executionInfo": {
     "elapsed": 5393,
     "status": "ok",
     "timestamp": 1661448471283,
     "user": {
      "displayName": "Bruno Silva",
      "userId": "01771094133195996972"
     },
     "user_tz": 180
    },
    "id": "DztqYcwKZGKl",
    "outputId": "77cc5390-3e9e-4d77-ced3-6f75e574e854"
   },
   "outputs": [
    {
     "name": "stdout",
     "output_type": "stream",
     "text": [
      "Digite uma sequência de números separados por vígula: 12, 5, -7, 8, 5, 9, 12, 1, 8\n",
      "A lista final será [12, 5, -7, 8, 9, 1]\n"
     ]
    }
   ],
   "source": [
    "list_entry = input('Digite uma sequência de números separados por vígula: ').split(',')\n",
    "list_int = [int(elem) for elem in list_entry]\n",
    "\n",
    "final_list = []\n",
    "[final_list.append(elem) for elem in list_int if elem not in final_list]\n",
    "\n",
    "print(f'A lista final será {final_list}')"
   ]
  },
  {
   "cell_type": "markdown",
   "metadata": {
    "id": "lHmXgMOPJ5kk"
   },
   "source": [
    "Usando o conceito de pilha faça um algoritmo que recebe uma linha de python e valida se os parênteses estão certos. Exemplo:\n",
    "\n",
    "print(int(input('Teste: ')))<br>\n",
    "®: Válido\n",
    "\n",
    "print(list(str(175414)).count('1')<br>\n",
    "®: Inválido. "
   ]
  },
  {
   "cell_type": "code",
   "execution_count": null,
   "metadata": {
    "colab": {
     "base_uri": "https://localhost:8080/"
    },
    "executionInfo": {
     "elapsed": 5111,
     "status": "ok",
     "timestamp": 1661439592847,
     "user": {
      "displayName": "Bruno Silva",
      "userId": "01771094133195996972"
     },
     "user_tz": 180
    },
    "id": "QIATOYkJJ5kl",
    "outputId": "cd419c91-9caf-4732-9509-1808e9b807f4"
   },
   "outputs": [
    {
     "name": "stdout",
     "output_type": "stream",
     "text": [
      "Digite uma linha de comando: print(list(str(175414)).count('1')\n",
      "A linha de código é INVÁLIDA.\n"
     ]
    }
   ],
   "source": [
    "command_line = input('Digite uma linha de comando: ')\n",
    "\n",
    "count = 0\n",
    "for character in command_line:\n",
    "    if(character == '('):\n",
    "        count += 1\n",
    "    elif(character == ')'):\n",
    "        count += -1\n",
    "    \n",
    "    if count < 0:\n",
    "        break\n",
    "\n",
    "\n",
    "ans = 'VÁLIDA' if count == 0 else 'INVÁLIDA'\n",
    "print(f'A linha de código é {ans}.')\n"
   ]
  },
  {
   "cell_type": "code",
   "execution_count": null,
   "metadata": {
    "colab": {
     "base_uri": "https://localhost:8080/"
    },
    "executionInfo": {
     "elapsed": 7182,
     "status": "ok",
     "timestamp": 1661440067952,
     "user": {
      "displayName": "Bruno Silva",
      "userId": "01771094133195996972"
     },
     "user_tz": 180
    },
    "id": "z3XRIN4Zg2Bc",
    "outputId": "0b68cbc8-b88d-49b2-b52b-dd34dbcad515"
   },
   "outputs": [
    {
     "name": "stdout",
     "output_type": "stream",
     "text": [
      "Digite uma linha de comando: print(int(input('Teste: ')))\n",
      "A linha de código é VÁLIDA.\n"
     ]
    }
   ],
   "source": [
    "command_line = input('Digite uma linha de comando: ')\n",
    "\n",
    "count = 0\n",
    "list1 = [1 if character == '(' else( -1 if character == ')' else 0) for character in command_line]\n",
    "\n",
    "list1 = [1 if character == '(' else( -1 if character == ')' else 0) for character in command_line]\n",
    "\n",
    "list_sum = [count += num for num in list1]\n",
    "count = sum()\n",
    "ans = 'VÁLIDA' if count == 0 else 'INVÁLIDA'\n",
    "print(f'A linha de código é {ans}.')"
   ]
  },
  {
   "cell_type": "code",
   "execution_count": null,
   "metadata": {
    "id": "0z4vNFg1hyD0"
   },
   "outputs": [],
   "source": [
    "\n"
   ]
  }
 ],
 "metadata": {
  "colab": {
   "collapsed_sections": [],
   "name": "Aula 4 - Listas e Listas de Listas.ipynb",
   "provenance": []
  },
  "kernelspec": {
   "display_name": "Python 3 (ipykernel)",
   "language": "python",
   "name": "python3"
  },
  "language_info": {
   "codemirror_mode": {
    "name": "ipython",
    "version": 3
   },
   "file_extension": ".py",
   "mimetype": "text/x-python",
   "name": "python",
   "nbconvert_exporter": "python",
   "pygments_lexer": "ipython3",
   "version": "3.8.10"
  }
 },
 "nbformat": 4,
 "nbformat_minor": 1
}
